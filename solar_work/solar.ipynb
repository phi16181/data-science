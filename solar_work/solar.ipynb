{
 "cells": [
  {
   "cell_type": "markdown",
   "metadata": {},
   "source": [
    "Scenario: build a new predictive model that can predict mpg of a vehicle with various characterisitcs. "
   ]
  },
  {
   "cell_type": "markdown",
   "metadata": {},
   "source": [
    "Variables:\n",
    "1. Time of Day\n",
    "2. Air Temperature (Celcius)\n",
    "3. Humidity (a measure (%) of the actual amount of water vapor in the air compared to the total amount of vapor that can exist in the air at its current temperature.)\n",
    "4. Dew Point (Celcius)\n",
    "5. Barometric Pressure (mBar)\n",
    "6. Wind Speed (km/hr)\n",
    "7. Solar Radiation - w/m2"
   ]
  },
  {
   "cell_type": "code",
   "execution_count": 3,
   "metadata": {},
   "outputs": [],
   "source": [
    "#DS Basics\n",
    "import numpy as np\n",
    "import pandas as pd\n",
    "import matplotlib.pyplot as plt\n",
    "import seaborn as sns\n",
    "\n",
    "#SKLearn Stuff\n",
    "from sklearn.model_selection import train_test_split\n",
    "from sklearn.metrics import r2_score\n",
    "from sklearn.ensemble import RandomForestRegressor"
   ]
  },
  {
   "cell_type": "code",
   "execution_count": 4,
   "metadata": {},
   "outputs": [
    {
     "data": {
      "text/html": [
       "<div>\n",
       "<style scoped>\n",
       "    .dataframe tbody tr th:only-of-type {\n",
       "        vertical-align: middle;\n",
       "    }\n",
       "\n",
       "    .dataframe tbody tr th {\n",
       "        vertical-align: top;\n",
       "    }\n",
       "\n",
       "    .dataframe thead th {\n",
       "        text-align: right;\n",
       "    }\n",
       "</style>\n",
       "<table border=\"1\" class=\"dataframe\">\n",
       "  <thead>\n",
       "    <tr style=\"text-align: right;\">\n",
       "      <th></th>\n",
       "      <th>Unnamed: 0</th>\n",
       "      <th>TimeofDay</th>\n",
       "      <th>AirTemp</th>\n",
       "      <th>Humidity</th>\n",
       "      <th>Dewpoint</th>\n",
       "      <th>BarPres</th>\n",
       "      <th>WindSpeed</th>\n",
       "      <th>SolarRad</th>\n",
       "    </tr>\n",
       "  </thead>\n",
       "  <tbody>\n",
       "    <tr>\n",
       "      <th>0</th>\n",
       "      <td>1</td>\n",
       "      <td>15</td>\n",
       "      <td>2.616</td>\n",
       "      <td>76.6</td>\n",
       "      <td>-1.09</td>\n",
       "      <td>102.84</td>\n",
       "      <td>0.780</td>\n",
       "      <td>3.48</td>\n",
       "    </tr>\n",
       "    <tr>\n",
       "      <th>1</th>\n",
       "      <td>2</td>\n",
       "      <td>30</td>\n",
       "      <td>2.133</td>\n",
       "      <td>79.8</td>\n",
       "      <td>-1.00</td>\n",
       "      <td>102.85</td>\n",
       "      <td>0.891</td>\n",
       "      <td>3.49</td>\n",
       "    </tr>\n",
       "    <tr>\n",
       "      <th>2</th>\n",
       "      <td>3</td>\n",
       "      <td>45</td>\n",
       "      <td>2.017</td>\n",
       "      <td>79.1</td>\n",
       "      <td>-1.21</td>\n",
       "      <td>102.84</td>\n",
       "      <td>0.902</td>\n",
       "      <td>3.49</td>\n",
       "    </tr>\n",
       "    <tr>\n",
       "      <th>3</th>\n",
       "      <td>4</td>\n",
       "      <td>100</td>\n",
       "      <td>1.659</td>\n",
       "      <td>80.2</td>\n",
       "      <td>-1.39</td>\n",
       "      <td>102.84</td>\n",
       "      <td>0.890</td>\n",
       "      <td>3.49</td>\n",
       "    </tr>\n",
       "    <tr>\n",
       "      <th>4</th>\n",
       "      <td>5</td>\n",
       "      <td>115</td>\n",
       "      <td>1.618</td>\n",
       "      <td>79.3</td>\n",
       "      <td>-1.56</td>\n",
       "      <td>102.84</td>\n",
       "      <td>0.659</td>\n",
       "      <td>3.48</td>\n",
       "    </tr>\n",
       "  </tbody>\n",
       "</table>\n",
       "</div>"
      ],
      "text/plain": [
       "   Unnamed: 0  TimeofDay  AirTemp  Humidity  Dewpoint  BarPres  WindSpeed  \\\n",
       "0           1         15    2.616      76.6     -1.09   102.84      0.780   \n",
       "1           2         30    2.133      79.8     -1.00   102.85      0.891   \n",
       "2           3         45    2.017      79.1     -1.21   102.84      0.902   \n",
       "3           4        100    1.659      80.2     -1.39   102.84      0.890   \n",
       "4           5        115    1.618      79.3     -1.56   102.84      0.659   \n",
       "\n",
       "   SolarRad  \n",
       "0      3.48  \n",
       "1      3.49  \n",
       "2      3.49  \n",
       "3      3.49  \n",
       "4      3.48  "
      ]
     },
     "execution_count": 4,
     "metadata": {},
     "output_type": "execute_result"
    }
   ],
   "source": [
    "#Import and View the Data\n",
    "solar = pd.read_csv('WholeYear.csv')\n",
    "solar.head()"
   ]
  },
  {
   "cell_type": "markdown",
   "metadata": {},
   "source": [
    "Preprocessing - add intro here"
   ]
  },
  {
   "cell_type": "code",
   "execution_count": 5,
   "metadata": {},
   "outputs": [
    {
     "data": {
      "text/plain": [
       "Unnamed: 0      int64\n",
       "TimeofDay       int64\n",
       "AirTemp       float64\n",
       "Humidity      float64\n",
       "Dewpoint      float64\n",
       "BarPres       float64\n",
       "WindSpeed     float64\n",
       "SolarRad      float64\n",
       "dtype: object"
      ]
     },
     "execution_count": 5,
     "metadata": {},
     "output_type": "execute_result"
    }
   ],
   "source": [
    "#check datatypes to ensure all data is numerical\n",
    "solar.dtypes"
   ]
  },
  {
   "cell_type": "code",
   "execution_count": 6,
   "metadata": {},
   "outputs": [
    {
     "name": "stdout",
     "output_type": "stream",
     "text": [
      "Unnamed: 0    0\n",
      "TimeofDay     0\n",
      "AirTemp       0\n",
      "Humidity      0\n",
      "Dewpoint      0\n",
      "BarPres       0\n",
      "WindSpeed     0\n",
      "SolarRad      0\n",
      "dtype: int64\n"
     ]
    }
   ],
   "source": [
    "#check for missing values and impute if necessary\n",
    "print(solar.isnull().sum())"
   ]
  },
  {
   "cell_type": "code",
   "execution_count": 7,
   "metadata": {},
   "outputs": [],
   "source": [
    "#Drop uneeded columns (too many unique values and/or not relevant)\n",
    "solar = solar.drop(columns=['Unnamed: 0','TimeofDay','WindSpeed']);"
   ]
  },
  {
   "cell_type": "code",
   "execution_count": 8,
   "metadata": {
    "scrolled": true
   },
   "outputs": [
    {
     "data": {
      "text/html": [
       "<div>\n",
       "<style scoped>\n",
       "    .dataframe tbody tr th:only-of-type {\n",
       "        vertical-align: middle;\n",
       "    }\n",
       "\n",
       "    .dataframe tbody tr th {\n",
       "        vertical-align: top;\n",
       "    }\n",
       "\n",
       "    .dataframe thead th {\n",
       "        text-align: right;\n",
       "    }\n",
       "</style>\n",
       "<table border=\"1\" class=\"dataframe\">\n",
       "  <thead>\n",
       "    <tr style=\"text-align: right;\">\n",
       "      <th></th>\n",
       "      <th>AirTemp</th>\n",
       "      <th>Humidity</th>\n",
       "      <th>Dewpoint</th>\n",
       "      <th>BarPres</th>\n",
       "      <th>SolarRad</th>\n",
       "    </tr>\n",
       "  </thead>\n",
       "  <tbody>\n",
       "    <tr>\n",
       "      <th>0</th>\n",
       "      <td>2.616</td>\n",
       "      <td>76.6</td>\n",
       "      <td>-1.09</td>\n",
       "      <td>102.84</td>\n",
       "      <td>3.48</td>\n",
       "    </tr>\n",
       "    <tr>\n",
       "      <th>1</th>\n",
       "      <td>2.133</td>\n",
       "      <td>79.8</td>\n",
       "      <td>-1.00</td>\n",
       "      <td>102.85</td>\n",
       "      <td>3.49</td>\n",
       "    </tr>\n",
       "    <tr>\n",
       "      <th>2</th>\n",
       "      <td>2.017</td>\n",
       "      <td>79.1</td>\n",
       "      <td>-1.21</td>\n",
       "      <td>102.84</td>\n",
       "      <td>3.49</td>\n",
       "    </tr>\n",
       "    <tr>\n",
       "      <th>3</th>\n",
       "      <td>1.659</td>\n",
       "      <td>80.2</td>\n",
       "      <td>-1.39</td>\n",
       "      <td>102.84</td>\n",
       "      <td>3.49</td>\n",
       "    </tr>\n",
       "    <tr>\n",
       "      <th>4</th>\n",
       "      <td>1.618</td>\n",
       "      <td>79.3</td>\n",
       "      <td>-1.56</td>\n",
       "      <td>102.84</td>\n",
       "      <td>3.48</td>\n",
       "    </tr>\n",
       "  </tbody>\n",
       "</table>\n",
       "</div>"
      ],
      "text/plain": [
       "   AirTemp  Humidity  Dewpoint  BarPres  SolarRad\n",
       "0    2.616      76.6     -1.09   102.84      3.48\n",
       "1    2.133      79.8     -1.00   102.85      3.49\n",
       "2    2.017      79.1     -1.21   102.84      3.49\n",
       "3    1.659      80.2     -1.39   102.84      3.49\n",
       "4    1.618      79.3     -1.56   102.84      3.48"
      ]
     },
     "execution_count": 8,
     "metadata": {},
     "output_type": "execute_result"
    }
   ],
   "source": [
    "solar.head()"
   ]
  },
  {
   "cell_type": "code",
   "execution_count": 9,
   "metadata": {},
   "outputs": [],
   "source": [
    "#convert AirTemp to F\n",
    "solar['AirTemp'] = solar['AirTemp'] * (9/5) + 32"
   ]
  },
  {
   "cell_type": "code",
   "execution_count": 10,
   "metadata": {},
   "outputs": [],
   "source": [
    "#convert DewPoint to F\n",
    "solar['Dewpoint'] = solar['Dewpoint'] * (9/5) + 32"
   ]
  },
  {
   "cell_type": "code",
   "execution_count": 11,
   "metadata": {},
   "outputs": [
    {
     "data": {
      "text/html": [
       "<div>\n",
       "<style scoped>\n",
       "    .dataframe tbody tr th:only-of-type {\n",
       "        vertical-align: middle;\n",
       "    }\n",
       "\n",
       "    .dataframe tbody tr th {\n",
       "        vertical-align: top;\n",
       "    }\n",
       "\n",
       "    .dataframe thead th {\n",
       "        text-align: right;\n",
       "    }\n",
       "</style>\n",
       "<table border=\"1\" class=\"dataframe\">\n",
       "  <thead>\n",
       "    <tr style=\"text-align: right;\">\n",
       "      <th></th>\n",
       "      <th>AirTemp</th>\n",
       "      <th>Humidity</th>\n",
       "      <th>Dewpoint</th>\n",
       "      <th>BarPres</th>\n",
       "      <th>SolarRad</th>\n",
       "    </tr>\n",
       "  </thead>\n",
       "  <tbody>\n",
       "    <tr>\n",
       "      <th>0</th>\n",
       "      <td>36.7088</td>\n",
       "      <td>76.6</td>\n",
       "      <td>30.038</td>\n",
       "      <td>102.84</td>\n",
       "      <td>3.48</td>\n",
       "    </tr>\n",
       "    <tr>\n",
       "      <th>1</th>\n",
       "      <td>35.8394</td>\n",
       "      <td>79.8</td>\n",
       "      <td>30.200</td>\n",
       "      <td>102.85</td>\n",
       "      <td>3.49</td>\n",
       "    </tr>\n",
       "    <tr>\n",
       "      <th>2</th>\n",
       "      <td>35.6306</td>\n",
       "      <td>79.1</td>\n",
       "      <td>29.822</td>\n",
       "      <td>102.84</td>\n",
       "      <td>3.49</td>\n",
       "    </tr>\n",
       "    <tr>\n",
       "      <th>3</th>\n",
       "      <td>34.9862</td>\n",
       "      <td>80.2</td>\n",
       "      <td>29.498</td>\n",
       "      <td>102.84</td>\n",
       "      <td>3.49</td>\n",
       "    </tr>\n",
       "    <tr>\n",
       "      <th>4</th>\n",
       "      <td>34.9124</td>\n",
       "      <td>79.3</td>\n",
       "      <td>29.192</td>\n",
       "      <td>102.84</td>\n",
       "      <td>3.48</td>\n",
       "    </tr>\n",
       "  </tbody>\n",
       "</table>\n",
       "</div>"
      ],
      "text/plain": [
       "   AirTemp  Humidity  Dewpoint  BarPres  SolarRad\n",
       "0  36.7088      76.6    30.038   102.84      3.48\n",
       "1  35.8394      79.8    30.200   102.85      3.49\n",
       "2  35.6306      79.1    29.822   102.84      3.49\n",
       "3  34.9862      80.2    29.498   102.84      3.49\n",
       "4  34.9124      79.3    29.192   102.84      3.48"
      ]
     },
     "execution_count": 11,
     "metadata": {},
     "output_type": "execute_result"
    }
   ],
   "source": [
    "solar.head()"
   ]
  },
  {
   "cell_type": "code",
   "execution_count": 18,
   "metadata": {},
   "outputs": [
    {
     "data": {
      "text/html": [
       "<div>\n",
       "<style scoped>\n",
       "    .dataframe tbody tr th:only-of-type {\n",
       "        vertical-align: middle;\n",
       "    }\n",
       "\n",
       "    .dataframe tbody tr th {\n",
       "        vertical-align: top;\n",
       "    }\n",
       "\n",
       "    .dataframe thead th {\n",
       "        text-align: right;\n",
       "    }\n",
       "</style>\n",
       "<table border=\"1\" class=\"dataframe\">\n",
       "  <thead>\n",
       "    <tr style=\"text-align: right;\">\n",
       "      <th></th>\n",
       "      <th>AirTemp</th>\n",
       "      <th>Humidity</th>\n",
       "      <th>Dewpoint</th>\n",
       "      <th>BarPres</th>\n",
       "      <th>SolarRad</th>\n",
       "    </tr>\n",
       "  </thead>\n",
       "  <tbody>\n",
       "    <tr>\n",
       "      <th>AirTemp</th>\n",
       "      <td>237.966880</td>\n",
       "      <td>-11.342186</td>\n",
       "      <td>222.459610</td>\n",
       "      <td>-2.347438</td>\n",
       "      <td>1567.554282</td>\n",
       "    </tr>\n",
       "    <tr>\n",
       "      <th>Humidity</th>\n",
       "      <td>-11.342186</td>\n",
       "      <td>443.191897</td>\n",
       "      <td>191.669424</td>\n",
       "      <td>-2.690288</td>\n",
       "      <td>-2844.863069</td>\n",
       "    </tr>\n",
       "    <tr>\n",
       "      <th>Dewpoint</th>\n",
       "      <td>222.459610</td>\n",
       "      <td>191.669424</td>\n",
       "      <td>303.914026</td>\n",
       "      <td>-3.393120</td>\n",
       "      <td>192.663643</td>\n",
       "    </tr>\n",
       "    <tr>\n",
       "      <th>BarPres</th>\n",
       "      <td>-2.347438</td>\n",
       "      <td>-2.690288</td>\n",
       "      <td>-3.393120</td>\n",
       "      <td>0.305923</td>\n",
       "      <td>11.671615</td>\n",
       "    </tr>\n",
       "    <tr>\n",
       "      <th>SolarRad</th>\n",
       "      <td>1567.554282</td>\n",
       "      <td>-2844.863069</td>\n",
       "      <td>192.663643</td>\n",
       "      <td>11.671615</td>\n",
       "      <td>69700.022199</td>\n",
       "    </tr>\n",
       "  </tbody>\n",
       "</table>\n",
       "</div>"
      ],
      "text/plain": [
       "              AirTemp     Humidity    Dewpoint    BarPres      SolarRad\n",
       "AirTemp    237.966880   -11.342186  222.459610  -2.347438   1567.554282\n",
       "Humidity   -11.342186   443.191897  191.669424  -2.690288  -2844.863069\n",
       "Dewpoint   222.459610   191.669424  303.914026  -3.393120    192.663643\n",
       "BarPres     -2.347438    -2.690288   -3.393120   0.305923     11.671615\n",
       "SolarRad  1567.554282 -2844.863069  192.663643  11.671615  69700.022199"
      ]
     },
     "execution_count": 18,
     "metadata": {},
     "output_type": "execute_result"
    }
   ],
   "source": [
    "solarcov = solar.cov()\n",
    "solarcov"
   ]
  },
  {
   "cell_type": "code",
   "execution_count": 13,
   "metadata": {},
   "outputs": [
    {
     "data": {
      "text/html": [
       "<div>\n",
       "<style scoped>\n",
       "    .dataframe tbody tr th:only-of-type {\n",
       "        vertical-align: middle;\n",
       "    }\n",
       "\n",
       "    .dataframe tbody tr th {\n",
       "        vertical-align: top;\n",
       "    }\n",
       "\n",
       "    .dataframe thead th {\n",
       "        text-align: right;\n",
       "    }\n",
       "</style>\n",
       "<table border=\"1\" class=\"dataframe\">\n",
       "  <thead>\n",
       "    <tr style=\"text-align: right;\">\n",
       "      <th></th>\n",
       "      <th>AirTemp</th>\n",
       "      <th>Humidity</th>\n",
       "      <th>Dewpoint</th>\n",
       "      <th>BarPres</th>\n",
       "      <th>SolarRad</th>\n",
       "    </tr>\n",
       "  </thead>\n",
       "  <tbody>\n",
       "    <tr>\n",
       "      <th>AirTemp</th>\n",
       "      <td>1.000000</td>\n",
       "      <td>-0.034925</td>\n",
       "      <td>0.827213</td>\n",
       "      <td>-0.275125</td>\n",
       "      <td>0.384900</td>\n",
       "    </tr>\n",
       "    <tr>\n",
       "      <th>Humidity</th>\n",
       "      <td>-0.034925</td>\n",
       "      <td>1.000000</td>\n",
       "      <td>0.522254</td>\n",
       "      <td>-0.231045</td>\n",
       "      <td>-0.511857</td>\n",
       "    </tr>\n",
       "    <tr>\n",
       "      <th>Dewpoint</th>\n",
       "      <td>0.827213</td>\n",
       "      <td>0.522254</td>\n",
       "      <td>1.000000</td>\n",
       "      <td>-0.351899</td>\n",
       "      <td>0.041861</td>\n",
       "    </tr>\n",
       "    <tr>\n",
       "      <th>BarPres</th>\n",
       "      <td>-0.275125</td>\n",
       "      <td>-0.231045</td>\n",
       "      <td>-0.351899</td>\n",
       "      <td>1.000000</td>\n",
       "      <td>0.079930</td>\n",
       "    </tr>\n",
       "    <tr>\n",
       "      <th>SolarRad</th>\n",
       "      <td>0.384900</td>\n",
       "      <td>-0.511857</td>\n",
       "      <td>0.041861</td>\n",
       "      <td>0.079930</td>\n",
       "      <td>1.000000</td>\n",
       "    </tr>\n",
       "  </tbody>\n",
       "</table>\n",
       "</div>"
      ],
      "text/plain": [
       "           AirTemp  Humidity  Dewpoint   BarPres  SolarRad\n",
       "AirTemp   1.000000 -0.034925  0.827213 -0.275125  0.384900\n",
       "Humidity -0.034925  1.000000  0.522254 -0.231045 -0.511857\n",
       "Dewpoint  0.827213  0.522254  1.000000 -0.351899  0.041861\n",
       "BarPres  -0.275125 -0.231045 -0.351899  1.000000  0.079930\n",
       "SolarRad  0.384900 -0.511857  0.041861  0.079930  1.000000"
      ]
     },
     "execution_count": 13,
     "metadata": {},
     "output_type": "execute_result"
    }
   ],
   "source": [
    "solar.corr()"
   ]
  },
  {
   "cell_type": "code",
   "execution_count": 17,
   "metadata": {},
   "outputs": [
    {
     "data": {
      "text/plain": [
       "<matplotlib.axes._subplots.AxesSubplot at 0x7f756fa2a6d8>"
      ]
     },
     "execution_count": 17,
     "metadata": {},
     "output_type": "execute_result"
    },
    {
     "data": {
      "image/png": "[encoded data removed]",
      "text/plain": [
       "<Figure size 432x288 with 2 Axes>"
      ]
     },
     "metadata": {
      "needs_background": "light"
     },
     "output_type": "display_data"
    }
   ],
   "source": [
    "sns.heatmap(solarcov, annot=True, fmt='g')"
   ]
  },
  {
   "cell_type": "code",
   "execution_count": null,
   "metadata": {},
   "outputs": [],
   "source": []
  },
  {
   "cell_type": "code",
   "execution_count": null,
   "metadata": {},
   "outputs": [],
   "source": []
  },
  {
   "cell_type": "markdown",
   "metadata": {},
   "source": [
    "EDA Intro here"
   ]
  },
  {
   "cell_type": "code",
   "execution_count": 64,
   "metadata": {},
   "outputs": [
    {
     "data": {
      "text/html": [
       "<div>\n",
       "<style scoped>\n",
       "    .dataframe tbody tr th:only-of-type {\n",
       "        vertical-align: middle;\n",
       "    }\n",
       "\n",
       "    .dataframe tbody tr th {\n",
       "        vertical-align: top;\n",
       "    }\n",
       "\n",
       "    .dataframe thead th {\n",
       "        text-align: right;\n",
       "    }\n",
       "</style>\n",
       "<table border=\"1\" class=\"dataframe\">\n",
       "  <thead>\n",
       "    <tr style=\"text-align: right;\">\n",
       "      <th></th>\n",
       "      <th>AirTemp</th>\n",
       "      <th>Humidity</th>\n",
       "      <th>Dewpoint</th>\n",
       "      <th>BarPres</th>\n",
       "      <th>SolarRad</th>\n",
       "    </tr>\n",
       "  </thead>\n",
       "  <tbody>\n",
       "    <tr>\n",
       "      <th>count</th>\n",
       "      <td>35136.000000</td>\n",
       "      <td>35136.000000</td>\n",
       "      <td>35136.000000</td>\n",
       "      <td>35136.000000</td>\n",
       "      <td>35136.000000</td>\n",
       "    </tr>\n",
       "    <tr>\n",
       "      <th>mean</th>\n",
       "      <td>61.847794</td>\n",
       "      <td>69.782139</td>\n",
       "      <td>50.475156</td>\n",
       "      <td>101.971642</td>\n",
       "      <td>182.197669</td>\n",
       "    </tr>\n",
       "    <tr>\n",
       "      <th>std</th>\n",
       "      <td>15.426175</td>\n",
       "      <td>21.052123</td>\n",
       "      <td>17.433130</td>\n",
       "      <td>0.553103</td>\n",
       "      <td>264.007618</td>\n",
       "    </tr>\n",
       "    <tr>\n",
       "      <th>min</th>\n",
       "      <td>16.556000</td>\n",
       "      <td>9.980000</td>\n",
       "      <td>-7.096000</td>\n",
       "      <td>99.960000</td>\n",
       "      <td>3.480000</td>\n",
       "    </tr>\n",
       "    <tr>\n",
       "      <th>25%</th>\n",
       "      <td>50.342000</td>\n",
       "      <td>54.320000</td>\n",
       "      <td>35.870000</td>\n",
       "      <td>101.650000</td>\n",
       "      <td>4.160000</td>\n",
       "    </tr>\n",
       "    <tr>\n",
       "      <th>50%</th>\n",
       "      <td>65.210000</td>\n",
       "      <td>73.900000</td>\n",
       "      <td>55.868000</td>\n",
       "      <td>101.970000</td>\n",
       "      <td>7.840000</td>\n",
       "    </tr>\n",
       "    <tr>\n",
       "      <th>75%</th>\n",
       "      <td>73.130000</td>\n",
       "      <td>88.400000</td>\n",
       "      <td>65.606000</td>\n",
       "      <td>102.270000</td>\n",
       "      <td>306.100000</td>\n",
       "    </tr>\n",
       "    <tr>\n",
       "      <th>max</th>\n",
       "      <td>93.812000</td>\n",
       "      <td>98.900000</td>\n",
       "      <td>74.462000</td>\n",
       "      <td>103.810000</td>\n",
       "      <td>1089.000000</td>\n",
       "    </tr>\n",
       "  </tbody>\n",
       "</table>\n",
       "</div>"
      ],
      "text/plain": [
       "            AirTemp      Humidity      Dewpoint       BarPres      SolarRad\n",
       "count  35136.000000  35136.000000  35136.000000  35136.000000  35136.000000\n",
       "mean      61.847794     69.782139     50.475156    101.971642    182.197669\n",
       "std       15.426175     21.052123     17.433130      0.553103    264.007618\n",
       "min       16.556000      9.980000     -7.096000     99.960000      3.480000\n",
       "25%       50.342000     54.320000     35.870000    101.650000      4.160000\n",
       "50%       65.210000     73.900000     55.868000    101.970000      7.840000\n",
       "75%       73.130000     88.400000     65.606000    102.270000    306.100000\n",
       "max       93.812000     98.900000     74.462000    103.810000   1089.000000"
      ]
     },
     "execution_count": 64,
     "metadata": {},
     "output_type": "execute_result"
    }
   ],
   "source": [
    "#Descriptive Stats\n",
    "solar.describe()"
   ]
  },
  {
   "cell_type": "code",
   "execution_count": 69,
   "metadata": {},
   "outputs": [
    {
     "data": {
      "text/plain": [
       "<seaborn.axisgrid.JointGrid at 0x7f1696e47a58>"
      ]
     },
     "execution_count": 69,
     "metadata": {},
     "output_type": "execute_result"
    },
    {
     "data": {
      "image/png": "[encoded data removed]",
      "text/plain": [
       "<Figure size 432x432 with 3 Axes>"
      ]
     },
     "metadata": {
      "needs_background": "light"
     },
     "output_type": "display_data"
    }
   ],
   "source": [
    "sns.jointplot('AirTemp', 'SolarRad', data = solar, kind = 'kde', space=0, color='g' )"
   ]
  },
  {
   "cell_type": "code",
   "execution_count": null,
   "metadata": {},
   "outputs": [],
   "source": []
  },
  {
   "cell_type": "code",
   "execution_count": null,
   "metadata": {},
   "outputs": [],
   "source": []
  },
  {
   "cell_type": "code",
   "execution_count": null,
   "metadata": {},
   "outputs": [],
   "source": []
  },
  {
   "cell_type": "code",
   "execution_count": 71,
   "metadata": {},
   "outputs": [
    {
     "data": {
      "text/html": [
       "<div>\n",
       "<style scoped>\n",
       "    .dataframe tbody tr th:only-of-type {\n",
       "        vertical-align: middle;\n",
       "    }\n",
       "\n",
       "    .dataframe tbody tr th {\n",
       "        vertical-align: top;\n",
       "    }\n",
       "\n",
       "    .dataframe thead th {\n",
       "        text-align: right;\n",
       "    }\n",
       "</style>\n",
       "<table border=\"1\" class=\"dataframe\">\n",
       "  <thead>\n",
       "    <tr style=\"text-align: right;\">\n",
       "      <th></th>\n",
       "      <th>AirTemp</th>\n",
       "      <th>Humidity</th>\n",
       "      <th>Dewpoint</th>\n",
       "      <th>BarPres</th>\n",
       "    </tr>\n",
       "  </thead>\n",
       "  <tbody>\n",
       "    <tr>\n",
       "      <th>0</th>\n",
       "      <td>36.7088</td>\n",
       "      <td>76.6</td>\n",
       "      <td>30.038</td>\n",
       "      <td>102.84</td>\n",
       "    </tr>\n",
       "    <tr>\n",
       "      <th>1</th>\n",
       "      <td>35.8394</td>\n",
       "      <td>79.8</td>\n",
       "      <td>30.200</td>\n",
       "      <td>102.85</td>\n",
       "    </tr>\n",
       "    <tr>\n",
       "      <th>2</th>\n",
       "      <td>35.6306</td>\n",
       "      <td>79.1</td>\n",
       "      <td>29.822</td>\n",
       "      <td>102.84</td>\n",
       "    </tr>\n",
       "    <tr>\n",
       "      <th>3</th>\n",
       "      <td>34.9862</td>\n",
       "      <td>80.2</td>\n",
       "      <td>29.498</td>\n",
       "      <td>102.84</td>\n",
       "    </tr>\n",
       "    <tr>\n",
       "      <th>4</th>\n",
       "      <td>34.9124</td>\n",
       "      <td>79.3</td>\n",
       "      <td>29.192</td>\n",
       "      <td>102.84</td>\n",
       "    </tr>\n",
       "  </tbody>\n",
       "</table>\n",
       "</div>"
      ],
      "text/plain": [
       "   AirTemp  Humidity  Dewpoint  BarPres\n",
       "0  36.7088      76.6    30.038   102.84\n",
       "1  35.8394      79.8    30.200   102.85\n",
       "2  35.6306      79.1    29.822   102.84\n",
       "3  34.9862      80.2    29.498   102.84\n",
       "4  34.9124      79.3    29.192   102.84"
      ]
     },
     "execution_count": 71,
     "metadata": {},
     "output_type": "execute_result"
    }
   ],
   "source": [
    "#split data (rather than use CV)\n",
    "#Features\n",
    "X = solar.iloc[:,0:4]\n",
    "X.head()"
   ]
  },
  {
   "cell_type": "code",
   "execution_count": 73,
   "metadata": {},
   "outputs": [
    {
     "data": {
      "text/plain": [
       "0    3.48\n",
       "1    3.49\n",
       "2    3.49\n",
       "3    3.49\n",
       "4    3.48\n",
       "Name: SolarRad, dtype: float64"
      ]
     },
     "execution_count": 73,
     "metadata": {},
     "output_type": "execute_result"
    }
   ],
   "source": [
    "#Dep Var\n",
    "y = solar.iloc[:,4]\n",
    "y.head()"
   ]
  },
  {
   "cell_type": "code",
   "execution_count": 74,
   "metadata": {},
   "outputs": [],
   "source": [
    "#Train/Test Split\n",
    "X_train, X_test, y_train, y_test = train_test_split(X, y, test_size = .25, random_state = 123)"
   ]
  },
  {
   "cell_type": "code",
   "execution_count": 81,
   "metadata": {},
   "outputs": [
    {
     "name": "stderr",
     "output_type": "stream",
     "text": [
      "/home/obiwankanobe/anaconda3/lib/python3.7/site-packages/sklearn/ensemble/forest.py:246: FutureWarning: The default value of n_estimators will change from 10 in version 0.20 to 100 in 0.22.\n",
      "  \"10 in version 0.20 to 100 in 0.22.\", FutureWarning)\n"
     ]
    }
   ],
   "source": [
    "#Modeling\n",
    "algo = RandomForestRegressor()\n",
    "model = algo.fit(X_train,y_train)"
   ]
  },
  {
   "cell_type": "code",
   "execution_count": 82,
   "metadata": {
    "scrolled": true
   },
   "outputs": [],
   "source": [
    "#Predictions\n",
    "preds = model.predict(X_test)"
   ]
  },
  {
   "cell_type": "code",
   "execution_count": 83,
   "metadata": {},
   "outputs": [
    {
     "name": "stdout",
     "output_type": "stream",
     "text": [
      "R Squared score is: 0.626\n"
     ]
    }
   ],
   "source": [
    "#Accuracy\n",
    "print('R Squared score is: %.3f' % r2_score(y_test, preds))"
   ]
  },
  {
   "cell_type": "markdown",
   "metadata": {},
   "source": [
    "<b>Question 2: What is the Accuracy Paradox?</b>"
   ]
  },
  {
   "cell_type": "code",
   "execution_count": 16,
   "metadata": {},
   "outputs": [],
   "source": [
    "pickle.dump(model, open(\"iris_model.pkl\", \"wb\"))"
   ]
  },
  {
   "cell_type": "code",
   "execution_count": 17,
   "metadata": {},
   "outputs": [],
   "source": [
    "my_model = pickle.load(open(\"iris_model.pkl\", \"rb\"))"
   ]
  },
  {
   "cell_type": "code",
   "execution_count": 23,
   "metadata": {},
   "outputs": [],
   "source": [
    "url = \"http://localhost:9000/api\"\n",
    "data = json.dumps({'SepalLengthCm':6.3,'SepalWidthCm':2.9, 'PetalLengthCm':5.6,'PetalWidthCm':1.8}) \n",
    "r = requests.post(url, data)"
   ]
  },
  {
   "cell_type": "code",
   "execution_count": 24,
   "metadata": {},
   "outputs": [
    {
     "name": "stdout",
     "output_type": "stream",
     "text": [
      "{'results': {'y_hat': 2}}\n"
     ]
    }
   ],
   "source": [
    "print(r.json())"
   ]
  }
 ],
 "metadata": {
  "kernelspec": {
   "display_name": "Python 3",
   "language": "python",
   "name": "python3"
  },
  "language_info": {
   "codemirror_mode": {
    "name": "ipython",
    "version": 3
   },
   "file_extension": ".py",
   "mimetype": "text/x-python",
   "name": "python",
   "nbconvert_exporter": "python",
   "pygments_lexer": "ipython3",
   "version": "3.7.3"
  }
 },
 "nbformat": 4,
 "nbformat_minor": 2
}
