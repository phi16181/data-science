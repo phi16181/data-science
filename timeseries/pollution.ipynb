{
 "cells": [
  {
   "cell_type": "code",
   "execution_count": 1,
   "metadata": {},
   "outputs": [
    {
     "name": "stderr",
     "output_type": "stream",
     "text": [
      "c:\\users\\phi16\\appdata\\local\\programs\\python\\python35\\lib\\site-packages\\h5py\\__init__.py:36: FutureWarning: Conversion of the second argument of issubdtype from `float` to `np.floating` is deprecated. In future, it will be treated as `np.float64 == np.dtype(float).type`.\n",
      "  from ._conv import register_converters as _register_converters\n",
      "Using TensorFlow backend.\n"
     ]
    }
   ],
   "source": [
    "from pandas import read_csv\n",
    "import pandas as pd\n",
    "from datetime import datetime\n",
    "from sklearn.preprocessing import LabelEncoder, MinMaxScaler, normalize\n",
    "from keras.models import Sequential\n",
    "from keras.layers import Dense, Dropout\n",
    "from keras.layers import Embedding\n",
    "from keras.layers import LSTM"
   ]
  },
  {
   "cell_type": "code",
   "execution_count": 2,
   "metadata": {},
   "outputs": [
    {
     "name": "stdout",
     "output_type": "stream",
     "text": [
      "                     pollution  dew  temp   press wnd_dir  wnd_spd  snow  rain\n",
      "date                                                                          \n",
      "2010-01-02 00:00:00      129.0  -16  -4.0  1020.0      SE     1.79     0     0\n",
      "2010-01-02 01:00:00      148.0  -15  -4.0  1020.0      SE     2.68     0     0\n",
      "2010-01-02 02:00:00      159.0  -11  -5.0  1021.0      SE     3.57     0     0\n",
      "2010-01-02 03:00:00      181.0   -7  -5.0  1022.0      SE     5.36     1     0\n",
      "2010-01-02 04:00:00      138.0   -7  -5.0  1022.0      SE     6.25     2     0\n"
     ]
    }
   ],
   "source": [
    "\n",
    "# load data\n",
    "def parse(x):\n",
    "\treturn datetime.strptime(x, '%Y %m %d %H')\n",
    "dataset = read_csv('raw.csv',  parse_dates = [['year', 'month', 'day', 'hour']], index_col=0, date_parser=parse)\n",
    "dataset.drop('No', axis=1, inplace=True)\n",
    "# manually specify column names\n",
    "dataset.columns = ['pollution', 'dew', 'temp', 'press', 'wnd_dir', 'wnd_spd', 'snow', 'rain']\n",
    "dataset.index.name = 'date'\n",
    "# mark all NA values with 0\n",
    "dataset['pollution'].fillna(0, inplace=True)\n",
    "# drop the first 24 hours\n",
    "dataset = dataset[24:]\n",
    "# summarize first 5 rows\n",
    "print(dataset.head(5))\n",
    "# save to file\n",
    "dataset.to_csv('pollution.csv')"
   ]
  },
  {
   "cell_type": "code",
   "execution_count": 3,
   "metadata": {
    "scrolled": true
   },
   "outputs": [
    {
     "data": {
      "text/plain": [
       "DatetimeIndex(['2010-01-02 00:00:00', '2010-01-02 01:00:00',\n",
       "               '2010-01-02 02:00:00', '2010-01-02 03:00:00',\n",
       "               '2010-01-02 04:00:00', '2010-01-02 05:00:00',\n",
       "               '2010-01-02 06:00:00', '2010-01-02 07:00:00',\n",
       "               '2010-01-02 08:00:00', '2010-01-02 09:00:00',\n",
       "               ...\n",
       "               '2014-12-31 14:00:00', '2014-12-31 15:00:00',\n",
       "               '2014-12-31 16:00:00', '2014-12-31 17:00:00',\n",
       "               '2014-12-31 18:00:00', '2014-12-31 19:00:00',\n",
       "               '2014-12-31 20:00:00', '2014-12-31 21:00:00',\n",
       "               '2014-12-31 22:00:00', '2014-12-31 23:00:00'],\n",
       "              dtype='datetime64[ns]', name='date', length=43800, freq=None)"
      ]
     },
     "execution_count": 3,
     "metadata": {},
     "output_type": "execute_result"
    }
   ],
   "source": [
    "dataset.index"
   ]
  },
  {
   "cell_type": "code",
   "execution_count": 4,
   "metadata": {
    "scrolled": false
   },
   "outputs": [
    {
     "data": {
      "text/plain": [
       "array([[129.0, -16, -4.0, ..., 1.79, 0, 0],\n",
       "       [148.0, -15, -4.0, ..., 2.68, 0, 0],\n",
       "       [159.0, -11, -5.0, ..., 3.57, 0, 0],\n",
       "       ...,\n",
       "       [10.0, -22, -3.0, ..., 242.7, 0, 0],\n",
       "       [8.0, -22, -4.0, ..., 246.72, 0, 0],\n",
       "       [12.0, -21, -3.0, ..., 249.85, 0, 0]], dtype=object)"
      ]
     },
     "execution_count": 4,
     "metadata": {},
     "output_type": "execute_result"
    }
   ],
   "source": [
    "dataset.values"
   ]
  },
  {
   "cell_type": "code",
   "execution_count": 5,
   "metadata": {},
   "outputs": [
    {
     "data": {
      "text/plain": [
       "array(['SE', 'SE', 'SE', ..., 'NW', 'NW', 'NW'], dtype=object)"
      ]
     },
     "execution_count": 5,
     "metadata": {},
     "output_type": "execute_result"
    }
   ],
   "source": [
    "dataset.values[:,4]"
   ]
  },
  {
   "cell_type": "code",
   "execution_count": 6,
   "metadata": {
    "scrolled": true
   },
   "outputs": [
    {
     "data": {
      "text/plain": [
       "pandas.core.frame.DataFrame"
      ]
     },
     "execution_count": 6,
     "metadata": {},
     "output_type": "execute_result"
    }
   ],
   "source": [
    "type(dataset)"
   ]
  },
  {
   "cell_type": "markdown",
   "metadata": {},
   "source": [
    "normals = normalize(dataset.iloc[:,1:4])\n",
    "normals"
   ]
  },
  {
   "cell_type": "code",
   "execution_count": 7,
   "metadata": {},
   "outputs": [
    {
     "data": {
      "text/plain": [
       "<Figure size 640x480 with 7 Axes>"
      ]
     },
     "metadata": {},
     "output_type": "display_data"
    }
   ],
   "source": [
    "from pandas import read_csv\n",
    "from matplotlib import pyplot\n",
    "# load dataset\n",
    "dataset = read_csv('pollution.csv', header=0, index_col=0)\n",
    "values = dataset.values\n",
    "# specify columns to plot\n",
    "groups = [0, 1, 2, 3, 5, 6, 7]\n",
    "i = 1\n",
    "# plot each column\n",
    "pyplot.figure()\n",
    "for group in groups:\n",
    "\tpyplot.subplot(len(groups), 1, i)\n",
    "\tpyplot.plot(values[:, group])\n",
    "\tpyplot.title(dataset.columns[group], y=0.5, loc='right')\n",
    "\ti += 1\n",
    "pyplot.show()"
   ]
  },
  {
   "cell_type": "code",
   "execution_count": 8,
   "metadata": {},
   "outputs": [
    {
     "name": "stdout",
     "output_type": "stream",
     "text": [
      "   var1(t-1)  var2(t-1)  var3(t-1)  var4(t-1)  var5(t-1)  var6(t-1)  \\\n",
      "1   0.129779   0.352941   0.245902   0.527273   0.666667   0.002290   \n",
      "2   0.148893   0.367647   0.245902   0.527273   0.666667   0.003811   \n",
      "3   0.159960   0.426471   0.229508   0.545454   0.666667   0.005332   \n",
      "4   0.182093   0.485294   0.229508   0.563637   0.666667   0.008391   \n",
      "5   0.138833   0.485294   0.229508   0.563637   0.666667   0.009912   \n",
      "\n",
      "   var7(t-1)  var8(t-1)   var1(t)  \n",
      "1   0.000000        0.0  0.148893  \n",
      "2   0.000000        0.0  0.159960  \n",
      "3   0.000000        0.0  0.182093  \n",
      "4   0.037037        0.0  0.138833  \n",
      "5   0.074074        0.0  0.109658  \n"
     ]
    }
   ],
   "source": [
    "# convert series to supervised learning\n",
    "def series_to_supervised(data, n_in=1, n_out=1, dropnan=True):\n",
    "\tn_vars = 1 if type(data) is list else data.shape[1]\n",
    "\tdf = pd.DataFrame(data)\n",
    "\tcols, names = list(), list()\n",
    "\t# input sequence (t-n, ... t-1)\n",
    "\tfor i in range(n_in, 0, -1):\n",
    "\t\tcols.append(df.shift(i))\n",
    "\t\tnames += [('var%d(t-%d)' % (j+1, i)) for j in range(n_vars)]\n",
    "\t# forecast sequence (t, t+1, ... t+n)\n",
    "\tfor i in range(0, n_out):\n",
    "\t\tcols.append(df.shift(-i))\n",
    "\t\tif i == 0:\n",
    "\t\t\tnames += [('var%d(t)' % (j+1)) for j in range(n_vars)]\n",
    "\t\telse:\n",
    "\t\t\tnames += [('var%d(t+%d)' % (j+1, i)) for j in range(n_vars)]\n",
    "\t# put it all together\n",
    "\tagg = pd.concat(cols, axis=1)\n",
    "\tagg.columns = names\n",
    "\t# drop rows with NaN values\n",
    "\tif dropnan:\n",
    "\t\tagg.dropna(inplace=True)\n",
    "\treturn agg\n",
    " \n",
    "# load dataset into dataframe\n",
    "dataset = read_csv('pollution.csv', header=0, index_col=0)\n",
    "#put dataframe values into an array\n",
    "values = dataset.values\n",
    "# integer encode wind direction\n",
    "encoder = LabelEncoder()\n",
    "values[:,4] = encoder.fit_transform(values[:,4])\n",
    "# ensure all data is float\n",
    "values = values.astype('float32')\n",
    "\n",
    "# normalize features\n",
    "scaler = MinMaxScaler(feature_range=(0, 1))\n",
    "scaled = scaler.fit_transform(values)\n",
    "# frame as supervised learning\n",
    "reframed = series_to_supervised(scaled, 1, 1)\n",
    "# drop columns we don't want to predict\n",
    "reframed.drop(reframed.columns[[9,10,11,12,13,14,15]], axis=1, inplace=True)\n",
    "print(reframed.head())"
   ]
  },
  {
   "cell_type": "code",
   "execution_count": 34,
   "metadata": {},
   "outputs": [
    {
     "data": {
      "text/plain": [
       "array([[129.  , -16.  ,  -4.  , ...,   1.79,   0.  ,   0.  ],\n",
       "       [148.  , -15.  ,  -4.  , ...,   2.68,   0.  ,   0.  ],\n",
       "       [159.  , -11.  ,  -5.  , ...,   3.57,   0.  ,   0.  ],\n",
       "       ...,\n",
       "       [ 10.  , -22.  ,  -3.  , ..., 242.7 ,   0.  ,   0.  ],\n",
       "       [  8.  , -22.  ,  -4.  , ..., 246.72,   0.  ,   0.  ],\n",
       "       [ 12.  , -21.  ,  -3.  , ..., 249.85,   0.  ,   0.  ]],\n",
       "      dtype=float32)"
      ]
     },
     "execution_count": 34,
     "metadata": {},
     "output_type": "execute_result"
    }
   ],
   "source": [
    "values"
   ]
  },
  {
   "cell_type": "code",
   "execution_count": 9,
   "metadata": {},
   "outputs": [
    {
     "name": "stdout",
     "output_type": "stream",
     "text": [
      "(8760, 1, 8) (8760,) (35039, 1, 8) (35039,)\n"
     ]
    }
   ],
   "source": [
    "# split into train and test sets\n",
    "values = reframed.values\n",
    "n_train_hours = 365 * 24\n",
    "train = values[:n_train_hours, :]\n",
    "test = values[n_train_hours:, :]\n",
    "# split into input and outputs\n",
    "train_X, train_y = train[:, :-1], train[:, -1]\n",
    "test_X, test_y = test[:, :-1], test[:, -1]\n",
    "# reshape input to be 3D [samples, timesteps, features]\n",
    "train_X = train_X.reshape((train_X.shape[0], 1, train_X.shape[1]))\n",
    "test_X = test_X.reshape((test_X.shape[0], 1, test_X.shape[1]))\n",
    "print(train_X.shape, train_y.shape, test_X.shape, test_y.shape)"
   ]
  },
  {
   "cell_type": "code",
   "execution_count": 10,
   "metadata": {},
   "outputs": [
    {
     "name": "stdout",
     "output_type": "stream",
     "text": [
      "Train on 8760 samples, validate on 35039 samples\n",
      "Epoch 1/50\n",
      " - 6s - loss: 0.0629 - val_loss: 0.0524\n",
      "Epoch 2/50\n",
      " - 1s - loss: 0.0455 - val_loss: 0.0515\n",
      "Epoch 3/50\n",
      " - 1s - loss: 0.0280 - val_loss: 0.0419\n",
      "Epoch 4/50\n",
      " - 1s - loss: 0.0177 - val_loss: 0.0323\n",
      "Epoch 5/50\n",
      " - 1s - loss: 0.0156 - val_loss: 0.0180\n",
      "Epoch 6/50\n",
      " - 1s - loss: 0.0149 - val_loss: 0.0150\n",
      "Epoch 7/50\n",
      " - 1s - loss: 0.0148 - val_loss: 0.0147\n",
      "Epoch 8/50\n",
      " - 1s - loss: 0.0150 - val_loss: 0.0145\n",
      "Epoch 9/50\n",
      " - 1s - loss: 0.0149 - val_loss: 0.0139\n",
      "Epoch 10/50\n",
      " - 1s - loss: 0.0146 - val_loss: 0.0139\n",
      "Epoch 11/50\n",
      " - 1s - loss: 0.0148 - val_loss: 0.0137\n",
      "Epoch 12/50\n",
      " - 1s - loss: 0.0146 - val_loss: 0.0136\n",
      "Epoch 13/50\n",
      " - 1s - loss: 0.0147 - val_loss: 0.0135\n",
      "Epoch 14/50\n",
      " - 1s - loss: 0.0144 - val_loss: 0.0134\n",
      "Epoch 15/50\n",
      " - 1s - loss: 0.0146 - val_loss: 0.0135\n",
      "Epoch 16/50\n",
      " - 1s - loss: 0.0146 - val_loss: 0.0135\n",
      "Epoch 17/50\n",
      " - 1s - loss: 0.0145 - val_loss: 0.0134\n",
      "Epoch 18/50\n",
      " - 1s - loss: 0.0145 - val_loss: 0.0134\n",
      "Epoch 19/50\n",
      " - 1s - loss: 0.0145 - val_loss: 0.0134\n",
      "Epoch 20/50\n",
      " - 1s - loss: 0.0145 - val_loss: 0.0134\n",
      "Epoch 21/50\n",
      " - 1s - loss: 0.0145 - val_loss: 0.0134\n",
      "Epoch 22/50\n",
      " - 1s - loss: 0.0145 - val_loss: 0.0134\n",
      "Epoch 23/50\n",
      " - 1s - loss: 0.0145 - val_loss: 0.0134\n",
      "Epoch 24/50\n",
      " - 1s - loss: 0.0145 - val_loss: 0.0133\n",
      "Epoch 25/50\n",
      " - 1s - loss: 0.0145 - val_loss: 0.0134\n",
      "Epoch 26/50\n",
      " - 1s - loss: 0.0145 - val_loss: 0.0134\n",
      "Epoch 27/50\n",
      " - 1s - loss: 0.0145 - val_loss: 0.0134\n",
      "Epoch 28/50\n",
      " - 1s - loss: 0.0145 - val_loss: 0.0135\n",
      "Epoch 29/50\n",
      " - 1s - loss: 0.0146 - val_loss: 0.0134\n",
      "Epoch 30/50\n",
      " - 1s - loss: 0.0145 - val_loss: 0.0135\n",
      "Epoch 31/50\n",
      " - 1s - loss: 0.0144 - val_loss: 0.0134\n",
      "Epoch 32/50\n",
      " - 1s - loss: 0.0144 - val_loss: 0.0138\n",
      "Epoch 33/50\n",
      " - 1s - loss: 0.0145 - val_loss: 0.0136\n",
      "Epoch 34/50\n",
      " - 1s - loss: 0.0144 - val_loss: 0.0136\n",
      "Epoch 35/50\n",
      " - 1s - loss: 0.0144 - val_loss: 0.0137\n",
      "Epoch 36/50\n",
      " - 1s - loss: 0.0144 - val_loss: 0.0135\n",
      "Epoch 37/50\n",
      " - 1s - loss: 0.0144 - val_loss: 0.0135\n",
      "Epoch 38/50\n",
      " - 1s - loss: 0.0143 - val_loss: 0.0135\n",
      "Epoch 39/50\n",
      " - 1s - loss: 0.0144 - val_loss: 0.0135\n",
      "Epoch 40/50\n",
      " - 1s - loss: 0.0144 - val_loss: 0.0134\n",
      "Epoch 41/50\n",
      " - 1s - loss: 0.0144 - val_loss: 0.0134\n",
      "Epoch 42/50\n",
      " - 1s - loss: 0.0144 - val_loss: 0.0134\n",
      "Epoch 43/50\n",
      " - 1s - loss: 0.0144 - val_loss: 0.0134\n",
      "Epoch 44/50\n",
      " - 1s - loss: 0.0144 - val_loss: 0.0134\n",
      "Epoch 45/50\n",
      " - 1s - loss: 0.0144 - val_loss: 0.0134\n",
      "Epoch 46/50\n",
      " - 1s - loss: 0.0144 - val_loss: 0.0134\n",
      "Epoch 47/50\n",
      " - 1s - loss: 0.0144 - val_loss: 0.0134\n",
      "Epoch 48/50\n",
      " - 1s - loss: 0.0144 - val_loss: 0.0135\n",
      "Epoch 49/50\n",
      " - 1s - loss: 0.0144 - val_loss: 0.0134\n",
      "Epoch 50/50\n",
      " - 1s - loss: 0.0144 - val_loss: 0.0134\n"
     ]
    },
    {
     "data": {
      "image/png": "[encoded data removed]",
      "text/plain": [
       "<Figure size 432x288 with 1 Axes>"
      ]
     },
     "metadata": {},
     "output_type": "display_data"
    }
   ],
   "source": [
    "# design network\n",
    "model = Sequential()\n",
    "model.add(LSTM(50, input_shape=(train_X.shape[1], train_X.shape[2])))\n",
    "model.add(Dense(1))\n",
    "model.compile(loss='mae', optimizer='adam')\n",
    "# fit network\n",
    "history = model.fit(train_X, train_y, epochs=50, batch_size=72, validation_data=(test_X, test_y), verbose=2, shuffle=False)\n",
    "# plot history\n",
    "pyplot.plot(history.history['loss'], label='train')\n",
    "pyplot.plot(history.history['val_loss'], label='test')\n",
    "pyplot.legend()\n",
    "pyplot.show()"
   ]
  },
  {
   "cell_type": "code",
   "execution_count": 12,
   "metadata": {},
   "outputs": [
    {
     "ename": "ValueError",
     "evalue": "Error when checking : expected lstm_1_input to have 3 dimensions, but got array with shape (35039, 8)",
     "output_type": "error",
     "traceback": [
      "\u001b[1;31m---------------------------------------------------------------------------\u001b[0m",
      "\u001b[1;31mValueError\u001b[0m                                Traceback (most recent call last)",
      "\u001b[1;32m<ipython-input-12-5c214e295b2d>\u001b[0m in \u001b[0;36m<module>\u001b[1;34m()\u001b[0m\n\u001b[0;32m      1\u001b[0m \u001b[1;31m# make a prediction\u001b[0m\u001b[1;33m\u001b[0m\u001b[1;33m\u001b[0m\u001b[0m\n\u001b[1;32m----> 2\u001b[1;33m \u001b[0myhat\u001b[0m \u001b[1;33m=\u001b[0m \u001b[0mmodel\u001b[0m\u001b[1;33m.\u001b[0m\u001b[0mpredict\u001b[0m\u001b[1;33m(\u001b[0m\u001b[0mtest_X\u001b[0m\u001b[1;33m)\u001b[0m\u001b[1;33m\u001b[0m\u001b[0m\n\u001b[0m\u001b[0;32m      3\u001b[0m \u001b[0mtest_X\u001b[0m \u001b[1;33m=\u001b[0m \u001b[0mtest_X\u001b[0m\u001b[1;33m.\u001b[0m\u001b[0mreshape\u001b[0m\u001b[1;33m(\u001b[0m\u001b[1;33m(\u001b[0m\u001b[0mtest_X\u001b[0m\u001b[1;33m.\u001b[0m\u001b[0mshape\u001b[0m\u001b[1;33m[\u001b[0m\u001b[1;36m0\u001b[0m\u001b[1;33m]\u001b[0m\u001b[1;33m,\u001b[0m \u001b[0mtest_X\u001b[0m\u001b[1;33m.\u001b[0m\u001b[0mshape\u001b[0m\u001b[1;33m[\u001b[0m\u001b[1;36m2\u001b[0m\u001b[1;33m]\u001b[0m\u001b[1;33m)\u001b[0m\u001b[1;33m)\u001b[0m\u001b[1;33m\u001b[0m\u001b[0m\n\u001b[0;32m      4\u001b[0m \u001b[1;31m# invert scaling for forecast\u001b[0m\u001b[1;33m\u001b[0m\u001b[1;33m\u001b[0m\u001b[0m\n\u001b[0;32m      5\u001b[0m \u001b[0minv_yhat\u001b[0m \u001b[1;33m=\u001b[0m \u001b[0mpd\u001b[0m\u001b[1;33m.\u001b[0m\u001b[0mconcatenate\u001b[0m\u001b[1;33m(\u001b[0m\u001b[1;33m(\u001b[0m\u001b[0myhat\u001b[0m\u001b[1;33m,\u001b[0m \u001b[0mtest_X\u001b[0m\u001b[1;33m[\u001b[0m\u001b[1;33m:\u001b[0m\u001b[1;33m,\u001b[0m \u001b[1;36m1\u001b[0m\u001b[1;33m:\u001b[0m\u001b[1;33m]\u001b[0m\u001b[1;33m)\u001b[0m\u001b[1;33m,\u001b[0m \u001b[0maxis\u001b[0m\u001b[1;33m=\u001b[0m\u001b[1;36m1\u001b[0m\u001b[1;33m)\u001b[0m\u001b[1;33m\u001b[0m\u001b[0m\n",
      "\u001b[1;32mc:\\users\\phi16\\appdata\\local\\programs\\python\\python35\\lib\\site-packages\\keras\\models.py\u001b[0m in \u001b[0;36mpredict\u001b[1;34m(self, x, batch_size, verbose, steps)\u001b[0m\n\u001b[0;32m   1062\u001b[0m             \u001b[0mself\u001b[0m\u001b[1;33m.\u001b[0m\u001b[0mbuild\u001b[0m\u001b[1;33m(\u001b[0m\u001b[1;33m)\u001b[0m\u001b[1;33m\u001b[0m\u001b[0m\n\u001b[0;32m   1063\u001b[0m         return self.model.predict(x, batch_size=batch_size, verbose=verbose,\n\u001b[1;32m-> 1064\u001b[1;33m                                   steps=steps)\n\u001b[0m\u001b[0;32m   1065\u001b[0m \u001b[1;33m\u001b[0m\u001b[0m\n\u001b[0;32m   1066\u001b[0m     \u001b[1;32mdef\u001b[0m \u001b[0mpredict_on_batch\u001b[0m\u001b[1;33m(\u001b[0m\u001b[0mself\u001b[0m\u001b[1;33m,\u001b[0m \u001b[0mx\u001b[0m\u001b[1;33m)\u001b[0m\u001b[1;33m:\u001b[0m\u001b[1;33m\u001b[0m\u001b[0m\n",
      "\u001b[1;32mc:\\users\\phi16\\appdata\\local\\programs\\python\\python35\\lib\\site-packages\\keras\\engine\\training.py\u001b[0m in \u001b[0;36mpredict\u001b[1;34m(self, x, batch_size, verbose, steps)\u001b[0m\n\u001b[0;32m   1815\u001b[0m         x = _standardize_input_data(x, self._feed_input_names,\n\u001b[0;32m   1816\u001b[0m                                     \u001b[0mself\u001b[0m\u001b[1;33m.\u001b[0m\u001b[0m_feed_input_shapes\u001b[0m\u001b[1;33m,\u001b[0m\u001b[1;33m\u001b[0m\u001b[0m\n\u001b[1;32m-> 1817\u001b[1;33m                                     check_batch_axis=False)\n\u001b[0m\u001b[0;32m   1818\u001b[0m         \u001b[1;32mif\u001b[0m \u001b[0mself\u001b[0m\u001b[1;33m.\u001b[0m\u001b[0mstateful\u001b[0m\u001b[1;33m:\u001b[0m\u001b[1;33m\u001b[0m\u001b[0m\n\u001b[0;32m   1819\u001b[0m             \u001b[1;32mif\u001b[0m \u001b[0mx\u001b[0m\u001b[1;33m[\u001b[0m\u001b[1;36m0\u001b[0m\u001b[1;33m]\u001b[0m\u001b[1;33m.\u001b[0m\u001b[0mshape\u001b[0m\u001b[1;33m[\u001b[0m\u001b[1;36m0\u001b[0m\u001b[1;33m]\u001b[0m \u001b[1;33m>\u001b[0m \u001b[0mbatch_size\u001b[0m \u001b[1;32mand\u001b[0m \u001b[0mx\u001b[0m\u001b[1;33m[\u001b[0m\u001b[1;36m0\u001b[0m\u001b[1;33m]\u001b[0m\u001b[1;33m.\u001b[0m\u001b[0mshape\u001b[0m\u001b[1;33m[\u001b[0m\u001b[1;36m0\u001b[0m\u001b[1;33m]\u001b[0m \u001b[1;33m%\u001b[0m \u001b[0mbatch_size\u001b[0m \u001b[1;33m!=\u001b[0m \u001b[1;36m0\u001b[0m\u001b[1;33m:\u001b[0m\u001b[1;33m\u001b[0m\u001b[0m\n",
      "\u001b[1;32mc:\\users\\phi16\\appdata\\local\\programs\\python\\python35\\lib\\site-packages\\keras\\engine\\training.py\u001b[0m in \u001b[0;36m_standardize_input_data\u001b[1;34m(data, names, shapes, check_batch_axis, exception_prefix)\u001b[0m\n\u001b[0;32m    111\u001b[0m                         \u001b[1;34m': expected '\u001b[0m \u001b[1;33m+\u001b[0m \u001b[0mnames\u001b[0m\u001b[1;33m[\u001b[0m\u001b[0mi\u001b[0m\u001b[1;33m]\u001b[0m \u001b[1;33m+\u001b[0m \u001b[1;34m' to have '\u001b[0m \u001b[1;33m+\u001b[0m\u001b[1;33m\u001b[0m\u001b[0m\n\u001b[0;32m    112\u001b[0m                         \u001b[0mstr\u001b[0m\u001b[1;33m(\u001b[0m\u001b[0mlen\u001b[0m\u001b[1;33m(\u001b[0m\u001b[0mshape\u001b[0m\u001b[1;33m)\u001b[0m\u001b[1;33m)\u001b[0m \u001b[1;33m+\u001b[0m \u001b[1;34m' dimensions, but got array '\u001b[0m\u001b[1;33m\u001b[0m\u001b[0m\n\u001b[1;32m--> 113\u001b[1;33m                         'with shape ' + str(data_shape))\n\u001b[0m\u001b[0;32m    114\u001b[0m                 \u001b[1;32mif\u001b[0m \u001b[1;32mnot\u001b[0m \u001b[0mcheck_batch_axis\u001b[0m\u001b[1;33m:\u001b[0m\u001b[1;33m\u001b[0m\u001b[0m\n\u001b[0;32m    115\u001b[0m                     \u001b[0mdata_shape\u001b[0m \u001b[1;33m=\u001b[0m \u001b[0mdata_shape\u001b[0m\u001b[1;33m[\u001b[0m\u001b[1;36m1\u001b[0m\u001b[1;33m:\u001b[0m\u001b[1;33m]\u001b[0m\u001b[1;33m\u001b[0m\u001b[0m\n",
      "\u001b[1;31mValueError\u001b[0m: Error when checking : expected lstm_1_input to have 3 dimensions, but got array with shape (35039, 8)"
     ]
    }
   ],
   "source": [
    "# make a prediction\n",
    "yhat = model.predict(test_X)\n",
    "test_X = test_X.reshape((test_X.shape[0], test_X.shape[2]))\n",
    "# invert scaling for forecast\n",
    "inv_yhat = pd.concatenate((yhat, test_X[:, 1:]), axis=1)\n",
    "inv_yhat = scaler.inverse_transform(inv_yhat)\n",
    "inv_yhat = inv_yhat[:,0]\n",
    "# invert scaling for actual\n",
    "test_y = test_y.reshape((len(test_y), 1))\n",
    "inv_y = concatenate((test_y, test_X[:, 1:]), axis=1)\n",
    "inv_y = scaler.inverse_transform(inv_y)\n",
    "inv_y = inv_y[:,0]\n",
    "# calculate RMSE\n",
    "rmse = sqrt(mean_squared_error(inv_y, inv_yhat))\n",
    "print('Test RMSE: %.3f' % rmse)"
   ]
  },
  {
   "cell_type": "code",
   "execution_count": 13,
   "metadata": {},
   "outputs": [
    {
     "name": "stdout",
     "output_type": "stream",
     "text": [
      "(43797, 32)\n",
      "(8760, 24) 8760 (8760,)\n",
      "(8760, 3, 8) (8760,) (35037, 3, 8) (35037,)\n",
      "Train on 8760 samples, validate on 35037 samples\n",
      "Epoch 1/50\n",
      " - 2s - loss: 0.0489 - val_loss: 0.0304\n",
      "Epoch 2/50\n",
      " - 1s - loss: 0.0240 - val_loss: 0.0218\n",
      "Epoch 3/50\n",
      " - 1s - loss: 0.0205 - val_loss: 0.0216\n",
      "Epoch 4/50\n",
      " - 1s - loss: 0.0205 - val_loss: 0.0196\n",
      "Epoch 5/50\n",
      " - 1s - loss: 0.0201 - val_loss: 0.0194\n",
      "Epoch 6/50\n",
      " - 1s - loss: 0.0195 - val_loss: 0.0190\n",
      "Epoch 7/50\n",
      " - 1s - loss: 0.0191 - val_loss: 0.0184\n",
      "Epoch 8/50\n",
      " - 1s - loss: 0.0187 - val_loss: 0.0184\n",
      "Epoch 9/50\n",
      " - 1s - loss: 0.0183 - val_loss: 0.0175\n",
      "Epoch 10/50\n",
      " - 1s - loss: 0.0178 - val_loss: 0.0172\n",
      "Epoch 11/50\n",
      " - 1s - loss: 0.0174 - val_loss: 0.0165\n",
      "Epoch 12/50\n",
      " - 1s - loss: 0.0171 - val_loss: 0.0161\n",
      "Epoch 13/50\n",
      " - 1s - loss: 0.0168 - val_loss: 0.0160\n",
      "Epoch 14/50\n",
      " - 1s - loss: 0.0164 - val_loss: 0.0159\n",
      "Epoch 15/50\n",
      " - 1s - loss: 0.0159 - val_loss: 0.0160\n",
      "Epoch 16/50\n",
      " - 1s - loss: 0.0158 - val_loss: 0.0158\n",
      "Epoch 17/50\n",
      " - 1s - loss: 0.0152 - val_loss: 0.0159\n",
      "Epoch 18/50\n",
      " - 1s - loss: 0.0154 - val_loss: 0.0159\n",
      "Epoch 19/50\n",
      " - 1s - loss: 0.0150 - val_loss: 0.0158\n",
      "Epoch 20/50\n",
      " - 1s - loss: 0.0150 - val_loss: 0.0170\n",
      "Epoch 21/50\n",
      " - 1s - loss: 0.0149 - val_loss: 0.0162\n",
      "Epoch 22/50\n",
      " - 1s - loss: 0.0147 - val_loss: 0.0159\n",
      "Epoch 23/50\n",
      " - 1s - loss: 0.0148 - val_loss: 0.0156\n",
      "Epoch 24/50\n",
      " - 1s - loss: 0.0146 - val_loss: 0.0150\n",
      "Epoch 25/50\n",
      " - 1s - loss: 0.0146 - val_loss: 0.0153\n",
      "Epoch 26/50\n",
      " - 1s - loss: 0.0146 - val_loss: 0.0153\n",
      "Epoch 27/50\n",
      " - 1s - loss: 0.0147 - val_loss: 0.0149\n",
      "Epoch 28/50\n",
      " - 1s - loss: 0.0146 - val_loss: 0.0150\n",
      "Epoch 29/50\n",
      " - 1s - loss: 0.0147 - val_loss: 0.0145\n",
      "Epoch 30/50\n",
      " - 1s - loss: 0.0147 - val_loss: 0.0144\n",
      "Epoch 31/50\n",
      " - 1s - loss: 0.0144 - val_loss: 0.0141\n",
      "Epoch 32/50\n",
      " - 1s - loss: 0.0145 - val_loss: 0.0143\n",
      "Epoch 33/50\n",
      " - 1s - loss: 0.0145 - val_loss: 0.0143\n",
      "Epoch 34/50\n",
      " - 1s - loss: 0.0145 - val_loss: 0.0145\n",
      "Epoch 35/50\n",
      " - 1s - loss: 0.0146 - val_loss: 0.0143\n",
      "Epoch 36/50\n",
      " - 1s - loss: 0.0145 - val_loss: 0.0141\n",
      "Epoch 37/50\n",
      " - 1s - loss: 0.0144 - val_loss: 0.0141\n",
      "Epoch 38/50\n",
      " - 1s - loss: 0.0144 - val_loss: 0.0140\n",
      "Epoch 39/50\n",
      " - 1s - loss: 0.0144 - val_loss: 0.0138\n",
      "Epoch 40/50\n",
      " - 1s - loss: 0.0144 - val_loss: 0.0141\n",
      "Epoch 41/50\n",
      " - 1s - loss: 0.0144 - val_loss: 0.0140\n",
      "Epoch 42/50\n",
      " - 1s - loss: 0.0144 - val_loss: 0.0140\n",
      "Epoch 43/50\n",
      " - 1s - loss: 0.0144 - val_loss: 0.0138\n",
      "Epoch 44/50\n",
      " - 1s - loss: 0.0143 - val_loss: 0.0138\n",
      "Epoch 45/50\n",
      " - 1s - loss: 0.0144 - val_loss: 0.0138\n",
      "Epoch 46/50\n",
      " - 1s - loss: 0.0144 - val_loss: 0.0138\n",
      "Epoch 47/50\n",
      " - 1s - loss: 0.0143 - val_loss: 0.0138\n",
      "Epoch 48/50\n",
      " - 1s - loss: 0.0144 - val_loss: 0.0138\n",
      "Epoch 49/50\n",
      " - 1s - loss: 0.0143 - val_loss: 0.0137\n",
      "Epoch 50/50\n",
      " - 1s - loss: 0.0143 - val_loss: 0.0136\n"
     ]
    },
    {
     "data": {
      "image/png": "[encoded data removed]",
      "text/plain": [
       "<Figure size 432x288 with 1 Axes>"
      ]
     },
     "metadata": {},
     "output_type": "display_data"
    },
    {
     "name": "stdout",
     "output_type": "stream",
     "text": [
      "Test RMSE: 26.373\n"
     ]
    }
   ],
   "source": [
    "from math import sqrt\n",
    "from numpy import concatenate\n",
    "from matplotlib import pyplot\n",
    "from pandas import read_csv\n",
    "from pandas import DataFrame\n",
    "from pandas import concat\n",
    "from sklearn.preprocessing import MinMaxScaler\n",
    "from sklearn.preprocessing import LabelEncoder\n",
    "from sklearn.metrics import mean_squared_error\n",
    "from keras.models import Sequential\n",
    "from keras.layers import Dense\n",
    "from keras.layers import LSTM\n",
    "\n",
    "# convert series to supervised learning\n",
    "def series_to_supervised(data, n_in=1, n_out=1, dropnan=True):\n",
    "\tn_vars = 1 if type(data) is list else data.shape[1]\n",
    "\tdf = DataFrame(data)\n",
    "\tcols, names = list(), list()\n",
    "\t# input sequence (t-n, ... t-1)\n",
    "\tfor i in range(n_in, 0, -1):\n",
    "\t\tcols.append(df.shift(i))\n",
    "\t\tnames += [('var%d(t-%d)' % (j+1, i)) for j in range(n_vars)]\n",
    "\t# forecast sequence (t, t+1, ... t+n)\n",
    "\tfor i in range(0, n_out):\n",
    "\t\tcols.append(df.shift(-i))\n",
    "\t\tif i == 0:\n",
    "\t\t\tnames += [('var%d(t)' % (j+1)) for j in range(n_vars)]\n",
    "\t\telse:\n",
    "\t\t\tnames += [('var%d(t+%d)' % (j+1, i)) for j in range(n_vars)]\n",
    "\t# put it all together\n",
    "\tagg = concat(cols, axis=1)\n",
    "\tagg.columns = names\n",
    "\t# drop rows with NaN values\n",
    "\tif dropnan:\n",
    "\t\tagg.dropna(inplace=True)\n",
    "\treturn agg\n",
    "\n",
    "# load dataset\n",
    "dataset = read_csv('pollution.csv', header=0, index_col=0)\n",
    "values = dataset.values\n",
    "# integer encode direction\n",
    "encoder = LabelEncoder()\n",
    "values[:,4] = encoder.fit_transform(values[:,4])\n",
    "# ensure all data is float\n",
    "values = values.astype('float32')\n",
    "# normalize features\n",
    "scaler = MinMaxScaler(feature_range=(0, 1))\n",
    "scaled = scaler.fit_transform(values)\n",
    "# specify the number of lag hours\n",
    "n_hours = 3\n",
    "n_features = 8\n",
    "# frame as supervised learning\n",
    "reframed = series_to_supervised(scaled, n_hours, 1)\n",
    "print(reframed.shape)\n",
    "\n",
    "# split into train and test sets\n",
    "values = reframed.values\n",
    "n_train_hours = 365 * 24\n",
    "train = values[:n_train_hours, :]\n",
    "test = values[n_train_hours:, :]\n",
    "# split into input and outputs\n",
    "n_obs = n_hours * n_features\n",
    "train_X, train_y = train[:, :n_obs], train[:, -n_features]\n",
    "test_X, test_y = test[:, :n_obs], test[:, -n_features]\n",
    "print(train_X.shape, len(train_X), train_y.shape)\n",
    "# reshape input to be 3D [samples, timesteps, features]\n",
    "train_X = train_X.reshape((train_X.shape[0], n_hours, n_features))\n",
    "test_X = test_X.reshape((test_X.shape[0], n_hours, n_features))\n",
    "print(train_X.shape, train_y.shape, test_X.shape, test_y.shape)\n",
    "\n",
    "# design network\n",
    "model = Sequential()\n",
    "model.add(LSTM(50, input_shape=(train_X.shape[1], train_X.shape[2])))\n",
    "model.add(Dense(1))\n",
    "model.compile(loss='mae', optimizer='adam')\n",
    "# fit network\n",
    "history = model.fit(train_X, train_y, epochs=50, batch_size=72, validation_data=(test_X, test_y), verbose=2, shuffle=False)\n",
    "# plot history\n",
    "pyplot.plot(history.history['loss'], label='train')\n",
    "pyplot.plot(history.history['val_loss'], label='test')\n",
    "pyplot.legend()\n",
    "pyplot.show()\n",
    "\n",
    "# make a prediction\n",
    "yhat = model.predict(test_X)\n",
    "test_X = test_X.reshape((test_X.shape[0], n_hours*n_features))\n",
    "# invert scaling for forecast\n",
    "inv_yhat = concatenate((yhat, test_X[:, -7:]), axis=1)\n",
    "inv_yhat = scaler.inverse_transform(inv_yhat)\n",
    "inv_yhat = inv_yhat[:,0]\n",
    "# invert scaling for actual\n",
    "test_y = test_y.reshape((len(test_y), 1))\n",
    "inv_y = concatenate((test_y, test_X[:, -7:]), axis=1)\n",
    "inv_y = scaler.inverse_transform(inv_y)\n",
    "inv_y = inv_y[:,0]\n",
    "# calculate RMSE\n",
    "rmse = sqrt(mean_squared_error(inv_y, inv_yhat))\n",
    "print('Test RMSE: %.3f' % rmse)"
   ]
  },
  {
   "cell_type": "code",
   "execution_count": null,
   "metadata": {},
   "outputs": [],
   "source": []
  }
 ],
 "metadata": {
  "kernelspec": {
   "display_name": "Python 3",
   "language": "python",
   "name": "python3"
  },
  "language_info": {
   "codemirror_mode": {
    "name": "ipython",
    "version": 3
   },
   "file_extension": ".py",
   "mimetype": "text/x-python",
   "name": "python",
   "nbconvert_exporter": "python",
   "pygments_lexer": "ipython3",
   "version": "3.5.4"
  }
 },
 "nbformat": 4,
 "nbformat_minor": 2
}
